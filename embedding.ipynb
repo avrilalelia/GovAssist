{
 "cells": [
  {
   "cell_type": "code",
   "execution_count": 1,
   "metadata": {},
   "outputs": [
    {
     "name": "stderr",
     "output_type": "stream",
     "text": [
      "e:\\project_kerja\\Hackathon\\GeminiGovTech\\venv\\Lib\\site-packages\\tqdm\\auto.py:21: TqdmWarning: IProgress not found. Please update jupyter and ipywidgets. See https://ipywidgets.readthedocs.io/en/stable/user_install.html\n",
      "  from .autonotebook import tqdm as notebook_tqdm\n"
     ]
    }
   ],
   "source": [
    "import pandas as pd\n",
    "from langchain import PromptTemplate\n",
    "from langchain.chains.question_answering import load_qa_chain\n",
    "from langchain.document_loaders import PyPDFLoader, UnstructuredPDFLoader\n",
    "from langchain.text_splitter import RecursiveCharacterTextSplitter, CharacterTextSplitter\n",
    "from langchain.vectorstores import Chroma\n",
    "from langchain.chains import create_retrieval_chain, create_history_aware_retriever\n",
    "from langchain.chains.combine_documents import create_stuff_documents_chain\n",
    "from langchain_core.prompts import ChatPromptTemplate, MessagesPlaceholder\n",
    "from langchain_chroma import Chroma\n",
    "from langchain_google_genai import GoogleGenerativeAIEmbeddings, ChatGoogleGenerativeAI\n",
    "from langchain_community.chat_message_histories import ChatMessageHistory\n",
    "from langchain_core.chat_history import BaseChatMessageHistory\n",
    "from langchain_core.runnables.history import RunnableWithMessageHistory\n",
    "from dotenv import load_dotenv\n",
    "import os\n"
   ]
  },
  {
   "cell_type": "markdown",
   "metadata": {},
   "source": [
    "## Load Document\n"
   ]
  },
  {
   "cell_type": "code",
   "execution_count": 2,
   "metadata": {},
   "outputs": [
    {
     "data": {
      "text/plain": [
       "[Document(metadata={'source': 'docs/KB GovTech.pdf', 'page': 0}, page_content='ApaituBPJS?\\nBPJSadalahbadanhukumyangberoperasi sejak2014sertamemiliki wewenanguntukmemberikanjaminansosial berbentukkesehatandanketenagakerjaan. Keduaaspekinimerupakanhal pentingbagi masyarakat umumdanpekerjadalamrangkameningkatkankesejahteraannya.\\nBiasanya, benefit yangakandidapatkanmasyarakat adalahasuransi kesehatansertapesangonpensiunbagi parapegawai swasta. Nah, padaartikel kali ini, OCBCakanmembahasmengenai pengertian, caradaftarbpjsonline, dancarapengecekannya. Yuk, simak!\\nApaituBPJS?\\nBPJSadalahsingkatandari BadanPenyelenggaraJaminanSosial, yakni lembagakhususyangbertugasuntukmenyelenggarakanjaminankesehatandanketenagakerjaanbagi masyarakat,PNS, sertapegawai swasta. Programini mulai diselenggarakanpadatahun2014melalui dasarhukumUndang-UndangNomor24Tahun2011.\\nSalahsatuprogramyangdiadakanolehBPJSadalahJaminanKesehatanNasional (JKN). JKNdiselenggarakanmelalui sistemasuransi, dimanamasyarakat wajibmembayariurandalamjumlahringansebagai tabunganuntukbiayaperawatannyaketikasakit di masadepan.\\nPadadasarnya, semuaWNI wajibmengikuti programmilikBPJS. Termasukdi dalamnyaadalahorangasingdanpekerjayangberdomisili di Indonesiaminimal 6bulansertamembayariuran.\\nJenis-JenisBPJS\\nLembagaini mengadakanduajenisjaminankesehatan. Agarlebihmemahaminya, penjabaranataskeduaprogramBPJSadalahsebagai berikut.\\n1. BPJSKesehatanSeperti telahdisinggungdi atastentangsalahsatuprogramBPJSadalahasuransi dibidangkesehatan, ataubiasadisebut JaminanKesehatanNasional (JKN). Dasarhukumpenyelenggaraannyayakni Undang-UndangNomor40Tahun2004dankeanggotaanpesertaditandai denganKartuIndonesiaSehat (KIS), termasukbagi merekapenerimabantuaniurandari pemerintah(PBI).\\nJKNmemberikanpelayanankesehatansecarakomprehensif melalui rujukanberjenjangtergantungpadaindikasi medispasien. Adapunmanfaat yangdiberikanolehkeanggotaanBPJSadalahsebagai berikut.'),\n",
       " Document(metadata={'source': 'docs/KB GovTech.pdf', 'page': 1}, page_content='○ Mendapatkanpenyuluhankesehatanmengenai perilakuhidupsehat maupunpengelolaanlingkunganhidup.○ HaktiapanakpesertaBPJSadalahmendapatkanimunisasi dasaryangmeliputiBCG, DPT-HB, campak, danpolio.○ MemperolehlayananKBseperti kontrasepsi, konselingkandungan, hinggatubektomi danvasektomi.○ Pemeriksaanuntukgagal ginjal, kanker, hinggabedahjantung.○ Skriningkesehatanmenurut risikopenyakit ataudampaklanjutan.2. Umumnya, pesertaBPJSmendapatkanpelayanankesehatantingkat pertamabaikberuparawat inapintensif ataunon-intensif, maupunrujukanlanjutanberuparawat jalanatauinap. Namun, perbedaannyaterletakpadakelas-kelasyangdiambil masyarakat.\\n3. BPJSKetenagakerjaanProgramBPJSdi bidangketenagakerjaanadalahJaminanHari Tua(JHT)yangpembayarannyaditanggungolehpengusahadanpekerja. TujuanJHTyaknimemberikanpenghargaanketikakaryawantelahpensiun, mengalami cacat tetap, ataumeninggal dunia. Keanggotaannyaditandai denganKartuPesertaJamsostek(KPJ).\\nKPJBPJSadalahtandapengenal kepesertaanKPJseseorang. Padapekerjaperusahaan, biasanyakeanggotaanmerekaditunjukkandengan11digit angkadiatasnya. SedangkanKPJbagi merekayangbekerjadi sektornonformal tanpaupahdari perusahaan(pedagang, petani, nelayan, dansebagainya)biasanyatidakdisertainomor. Namuntenangsaja, keduanyatetapterdaftardalamsistemBPJS.\\nBesarIuranBPJS\\nPembagianbesarkecilnyaiuranBPJSdidasarkanpadakemampuanekonomi peserta. Berikutini uraiannya.\\n1. IuranBPJSKesehatanBesaraniuranBPJSKesehatanditentukanmenurut kelas, mulai dari kelasI yangtermahal, hinggakelasIII dengantarif lebihterjangkau. Padadasarnyatarif iniberubah-ubahtiaptahun, namunperJanuari 2021nominalnyatelahditetapkansebagaiberikut.\\n○ KelasIII: Rp35ributiapbulannya. Tarif itutelahdipotongolehsubsidi pemerintahsebesarRp7ribudari yangseharusnyatotal nominalnyaadalahRp42ribu.○ KelasII: Rp100ribuperbulan.○ KelasI: Rp150ribuperbulan.'),\n",
       " Document(metadata={'source': 'docs/KB GovTech.pdf', 'page': 2}, page_content='2. Nominal di atasberlakubagi pesertamandiri danbukanpekerja. Adapunkaryawankantoranakanmembayartarif sebagai berikut.\\n○ PembayaraniuranBPJSadalahsebesar1%dari total gaji.○ Perusahaanwajibmembayariuran4%dari total gaji pekerjanya.○ Batasmaksimal gaji yangiuranBPJSnyaditanggungolehperusahaanadalahsebesarRp12juta.3. Adapunjadwal membayarBPJSadalahpadatanggal 10tiapbulannya. Jikaterdapatkelebihanpembayaranmakaakanadapemberitahuantertuliskepadaperusahaanatauselambat-lambatnya14hari sejakpenerimaan, laludikalkulasikandengannominal bulanberikutnya.\\n4. 2. IuranBPJSKetenagakerjaanAdapunbesarnyanominal iuranBPJSKetenagakerjaanadalahsebagai berikut.\\n○ Bagi pekerjapenerimaupah, nominal yangperludibayarkannyaadalah2%,sedangkanperusahaantempatnyabekerjaharusmembayarsebesar3.7%.○ Bagi pekerjabukanpenerimaupah, besariuranBPJSadalah2%dari upahperbulan.○ UntukiuranJaminanHari TuaBPJSKetenagakerjaankhususpekerjamigran,makanominal yangharusdibayarkanadalahRp50ribuhinggaRp600ribuperbulan\\nCaraDaftarBPJSOnline\\nMengingat pendaftaranBPJSadalahhal yangwajibdilakukan, makaAndaperlumempelajaribagaimanacaramendaftar. Pertama, siapkanberkas-berkasberikut.\\n● Alamat email yangmasihaktif.● Nomorhandphoneaktif.● NomorKK(KartuKeluarga).● NIK(NomorIndukKependudukan).\\nSetelahmenyiapkandokumen, makalangkah-langkahpendaftaranBPJSadalah:\\n1. Downloadaplikasi JKNMobiledi ponsel Anda, kemudianlakukaninstalasi.2. Bukaaplikasi laluklik“Daftar”.3. Pilihmenu“PendaftaranPesertaBaru”.4. Bacaketentuanpendaftaransecarateliti, kemudianklik“Setuju”.5. MasukkanNIKdankodecaptcha.6. Lakukanpengisiansemuadatayangdibutuhkan, kemudianketukopsi “Selanjutnya”.7. PilihfasilitaskesehatanapasajayangAndainginkan.8. Input alamat email, laluklik“Simpan”.'),\n",
       " Document(metadata={'source': 'docs/KB GovTech.pdf', 'page': 3}, page_content='9. Tungguverifikasi viaemail.10.Bukavirtual account yangdikirimkanolehBPJSKesehatan, kemudianlakukanpembayaranpreminya.11. Jikapembayaranpremi BPJSberhasil, makaAndatelahterdaftarsebagai peserta.12.KartuBPJSKesehatanmilikAndatelahtersediadi aplikasi dalambentukvirtual.\\nCaraCekBPJSKesehatan\\nKini, caracektagihandankeaktifanBPJSadalahhal yangmudahkarenadapat dilakukansecaraonline. Berikut beberapaalternatif untukAndacoba.\\n1. CaraCekBPJSKesehatanViaWhatsAppAndacukupmenghubungi nomor0811-8750-400, untukkemudiandisambungkandenganpetugaspemandu.\\n2. CaraCekMelaluiSMSCaralainmengecekkeaktifansekaligustagihanBPJSadalahmelalui SMS, dengancaraketikNIK(spasi)(MasukkanNIKAnda)atauketikNOKA(spasi)(masukkannomorkartuBPJSKesehatanAnda), lalukirimke087775500400.\\n3. AplikasiCarayangrelatif mudahadalahmelalui aplikasi cekBPJSKesehatan. Cukuplakukaninstalasi kemudianlakukanregistrasi menggunakannomorkartuBPJSdanemail.Selanjutnya, loginmenggunakandatatersebut danklikmenu“Tagihan”dilanjut “Premi.”Nah, informasi mengenai tagihandankepesertaanakansegeraditampilkan.\\n4. WebsiteCaraberikutnyauntukmengecekstatusBPJSadalahmenggunakanwebsitehttps://daftar.bpjs-kesehatan.go.id/bpjs-checking, laluisi datayangdiminta.\\nPPUPenyelenggaraNegara\\nPPUPenyelenggaraNegara\\nPekerjaPenerimaUpahPenyelenggaraNegara(PPUPN)adalahsetiapwarganegaraRepublikIndonesiayangtelahmemenuhi syarat yangditentukan, diangkat olehpejabat yangberwenangdandiserahi tugasdalamsuatujabatannegara, ataudiserahi tugasnegaralainnya,dandigaji berdasarkanperaturanperundang-undanganyangberlaku.\\nAnggotaKeluargayangDitanggung'),\n",
       " Document(metadata={'source': 'docs/KB GovTech.pdf', 'page': 4}, page_content='PesertaPPUPNmeliputi istri/suami yangsahdanmaksimal 3(tiga)oranganak, dengankriteria:\\n•Tidakataubelumpernahmenikahatautidakmempunyai penghasilansendiri.\\n•Belumberusia21(duapuluhsatu)tahunataubelumberusia25(duapuluhlima)tahunyangmasihmelanjutkanpendidikanformal.\\nApabilaanakke-1(kesatu)sampai dengananakke-3(ketiga)sudahtidakditanggung, makastatusanaktersebut dapat digantikanolehanakberikutnyasesuai denganurutankelahirandenganjumlahmaksimal yangditanggungadalah3(tiga)oranganakyangsah.\\nJikaSuami Istri Sama-SamaPekerja\\nSuami istri yangmerupakanpekerja, makakeduanyawajibdidaftarkansebagai pesertaPPUolehpemberi kerjanyadanmembayariuran. Suami, istri dananakdari pesertaPPUberhakmemilihkelasperawatantertinggi.\\nPekerjaBukanPenerimaUpah\\nPekerjaBukanPenerimaUpah(PBPU)adalahsetiaporangyangbekerjaatauberusahaatasrisikosendiri. PesertaPBPUwajibmendaftarkandirinyadananggotakeluargasebagaimanaterdaftardalamKartuKeluarga(suami/istri/anak/anggotakeluargalain). Pendaftarandilakukandi kelasrawat yangsamauntukseluruhanggotakeluargayangterdaftardalamKartuKeluarga.\\nBagi pendaftaranpesertaPBPUataupesertaBukanPekerjayangdilakukansecarasendiri-sendiri, makapembayaraniuranpertamanyadapat dilakukanpalingcepat 14(empatbelas)hari kalendersejakpendaftarandandinyatakanlayakberdasarkanverifikasipendaftaran, danselambat-lambatnya30(tigapuluh)hari sejakpendaftaranmelalui mekanismeautodebit.\\nPenerimaBantuanluran\\nPenerimaBantuanluran-JaminanKesehatan(PBI-JK), merupakanprogramJaminanKesehatanbagi fakirmiskindanorangtidakmampuyangiurannyadibayarolehPemerintahPusat melalui APBNdanPemerintahDaerahmelalui APBD.\\nPelayananKesehatanTingkat Pertama\\nPelayananKesehatanTingkat Pertamaadalahpelayanankesehatanperoranganyangbersifatnonspesialistik(primer)meliputi pelayananrawat jalandanrawat inapyangdiberikanolehFasilitasKesehatanTingkat Pertama(FKTP):'),\n",
       " Document(metadata={'source': 'docs/KB GovTech.pdf', 'page': 5}, page_content='•Puskesmasatauyangsetara;\\n•PraktikMandiri Dokter;\\n•PraktikMandiri DokterGigi;\\n•Klinikpratamaatauyangsetara, termasukFasilitasKesehatanTingkat Pertama(FKTP)milikTNI/Polri;\\n•RumahSakit KelasDPratamaatauyangsetara;\\n•Fasilitaskesehatanpenunjangseperti apotekdanlaboratorium.\\nRawat JalanTingkat Pertama\\nMerupakanpelayanankesehatanperoranganyangbersifat nonspesialistikyangdilaksanakanpadaFKTPuntukkeperluanobservasi, diagnosis, pengobatan, dan/ataupelayanankesehatanlainnya.JenispelayananRJTPmeliputi: administrasi pelayanan, termasukbiayaadministrasipendaftaranpesertauntukberobat, penyediaan, danpemberiansurat rujukankeFKRTLuntukpenyakit yangtidakdapat ditangani di FKTP;pelayananpromotif danpreventif perorangan,meliputi kegiatanpenyuluhankesehatanperorangan, imunisasi rutin, keluargaberencana,skriningriwayat kesehatandanpelayananpenapisanatauskriningkesehatantertentu, danpelayananProgramPengelolaanPenyakit Kronis;\\n1. Pemeriksaan, pengobatan, dankonsultasi medis;\\n2. Pemeriksaanibuhamil, nifas, ibumenyusui, bayi dananakbalita;\\n3. Tindakanmedisnonspesialistik, baikoperatif maupunnonoperatif;\\n4. Pelayananobat, alat kesehatan, danbahanmedishabispakai;\\n5. Pemeriksaanpenunjangdiagnostiklaboratoriumtingkat pratama;\\n6. PelayananProgramRujukBalik;\\nRawat InapTingkat Pertama\\nManfaat yangditanggung:\\n1. Pendaftarandanadministrasi;\\n2. Akomodasi rawat inap;'),\n",
       " Document(metadata={'source': 'docs/KB GovTech.pdf', 'page': 6}, page_content='3. Pemeriksaan, pengobatandankonsultasi medis;\\n4. Tindakanmedisnonspesialistik, baikoperatif maupunnonoperatif;\\n5. Pelayanankebidanan, ibu, bayi danbalitameliputi :\\n•Persalinanpervaginambukanrisikotinggi;\\n•Persalinandengankomplikasi dan/ataupenyulit pervaginambagi PuskesmasPONED(PelayananObstetri NeonatusEmergensi Dasar);\\n•Pertolonganneonatal dengankomplikasi;\\n6. Pelayananobat danbahanmedishabispakai; dan\\n7. Pemeriksaanpenunjangdiagnostiklaboratoriumtingkat pratama.\\nPelayananKesehatanRujukanTingkat LanjutanPelayananKesehatanRujukanTingkat Lanjutanadalahupayapelayanankesehatanperoranganyangbersifat spesialistikatausubspesialistikyangmeliputi rawat jalantingkatlanjutan, rawat inaptingkat lanjutan, danrawat inapdi ruangperawatankhusus, yangdiberikanoleh:•Klinikutamaatauyangsetara.•RumahSakit UmumbaikmilikPemerintahmaupunSwasta•RumahSakit KhususFaskesPenunjang: Apotik, OptikdanLaboratorium\\nRawat JalanTingkat LanjutanManfaat yangditanggung1. Administrasi pelayanan;2. Pemeriksaan, pengobatan, dankonsultasi medisdasaryangdilakukandi unit gawat darurat;3. Pemeriksaan, pengobatan, dankonsultasi spesialistik;4. Tindakanmedisspesialistik, baikbedahmaupunnonbedahsesuai denganindikasi medis;5. Pelayananobat, alat kesehatandanbahanmedishabispakai;6. Pelayananpenunjangdiagnostiklanjutan(laboratorium, radiologi danpenunjangdiagnostiklainnya)sesuai denganindikasi medis;7. Rehabilitasi medis;8. Pelayanandarah.\\nRawat InapTingkat LanjutanManfaat yangditanggung1. Perawataninapnonintensif2. Perawataninapintensif (ICU, ICCU, NICU, PICU).\\nLuran1. Bagi pesertaPenerimaBantunluran(PBI)JaminanKesehataniurandibayarolehPemerintah.'),\n",
       " Document(metadata={'source': 'docs/KB GovTech.pdf', 'page': 7}, page_content='2. Iuranbagi PesertaPekerjaPenerimaUpahyangbekerjapadaLembagaPemerintahanterdiridari Pegawai Negeri Sipil, anggotaTNI, anggotaPolri, pejabat negara, danpegawai pemerintahnonpegawai negeri sebesar5%(limapersen)dari Gaji atauUpahperbulandenganketentuan: 4%(empat persen)dibayarolehpemberi kerjadan1%(satupersen)dibayarolehpeserta.3. Iuranbagi PesertaPekerjaPenerimaUpahyangbekerjadi BUMN, BUMDdanSwastasebesar5%(limapersen)dari Gaji atauUpahperbulandenganketentuan: 4%(empat persen)dibayarolehPemberi Kerjadan1%(satupersen)dibayarolehPeserta.4. luranuntukkeluargatambahanPekerjaPenerimaUpahyangterdiri dari anakke4danseterusnya, ayah, ibudanmertua, besaraniuransebesarsebesar1%(satupersen)dari darigaji atauupahperorangperbulan, dibayarolehpekerjapenerimaupah.5. luranbagi kerabat laindari pekerjapenerimaupah(seperti saudarakandung/ipar, asistenrumahtangga, dll); pesertapekerjabukanpenerimaupahsertaiuranpesertabukanpekerjaadalahsebesar:1. SebesarRp. 42.000,-(empat poluhduariburupiah)perorangperbulandenganmanfaat pelayanandi ruangperawatanKelasIII.■KhususuntukkelasIII, bulanJuli -Desember2020, pesertamembayariuransebesarRp.25.500,-. SisanyasebesarRp16.500,-akandibayarolehpemerintahsebagai bantuaniuran.■Per1Januari 2021, iuranpesertakelasIII yaitusebesarRp35.000,-, sementarapemerintahtetapmemberikanbantuaniuransebesarRp7.000,-.2. SebesarRp. 100.000,-(seratusriburupiah)perorangperbulandenganmanfaat pelayanandi ruangperawatanKelasII.3. SebesarRp. 150.000,-(seratuslimapuluhriburupiah)perorangperbulandenganmanfaatpelayanandi ruangperawatanKelasI.6. luranJaminanKesehatanbagi Veteran, PerintisKemerdekaan, danjanda, duda, atauanakyatimpiatudari VeteranatauPerintisKemerdekaan,iurannyaditetapkansebesar5%(limapersen)dari 45%(empat puluhlimapersen)gaji pokokPegawai Negeri Sipil golonganruangIII/adenganmasakerja14(empat belas)tahunperbulan,dibayarolehPemerintah.7. Pembayaraniuranpalinglambat tanggal 10(sepuluh)setiapbulanTidakadadendaketerlambatanpembayaraniuranterhitungmulai tanggal 1Juli 2016.Dendadikenakanapabiladalamwaktu45(empat puluhlima)hari sejakstatuskepesertaandiaktifkankembali, pesertayangbersangkutanmemperolehpelayanankesehatanrawat inap.BerdasarkanPerpresNo. 64Tahun2020, besarandendapelayanansebesar5%(limapersen)dari biayadiagnosaawal pelayanankesehatanrawat inapdikalikandenganjumlahbulantertunggakdenganketentuan:1. Jumlahbulantertunggakpalingbanyak12(duabelas)bulan.2. Besarandendapalingtinggi Rp30.000.000,00(tigapuluhjutarupiah).3. Bagi PesertaPPUpembayarandendapelayananditanggungolehpemberi kerja.')]"
      ]
     },
     "execution_count": 2,
     "metadata": {},
     "output_type": "execute_result"
    }
   ],
   "source": [
    "pdf_loader = PyPDFLoader(\"docs/KB GovTech.pdf\")\n",
    "# pdf_loader = UnstructuredPDFLoader(\"docs\\KB GovTech.pdf\")\n",
    "pages = pdf_loader.load_and_split()\n",
    "pages"
   ]
  },
  {
   "cell_type": "markdown",
   "metadata": {},
   "source": [
    "## Chunking\n"
   ]
  },
  {
   "cell_type": "code",
   "execution_count": 3,
   "metadata": {},
   "outputs": [
    {
     "name": "stdout",
     "output_type": "stream",
     "text": [
      "Number of documents: 9\n"
     ]
    }
   ],
   "source": [
    "text_splitter = RecursiveCharacterTextSplitter(chunk_size=2500)\n",
    "docs = text_splitter.split_documents(pages)\n",
    "\n",
    "print(f\"Number of documents: {len(docs)}\")"
   ]
  },
  {
   "cell_type": "code",
   "execution_count": 4,
   "metadata": {},
   "outputs": [
    {
     "data": {
      "text/plain": [
       "[0.05168594419956207,\n",
       " -0.030764883384108543,\n",
       " -0.03062233328819275,\n",
       " -0.02802734263241291,\n",
       " 0.01813093200325966]"
      ]
     },
     "execution_count": 4,
     "metadata": {},
     "output_type": "execute_result"
    }
   ],
   "source": [
    "load_dotenv() \n",
    "\n",
    "#Get an API key: \n",
    "# Head to https://ai.google.dev/gemini-api/docs/api-key to generate a Google AI API key. Paste in .env file\n",
    "\n",
    "# Embedding models: https://python.langchain.com/v0.1/docs/integrations/text_embedding/\n",
    "\n",
    "embeddings = GoogleGenerativeAIEmbeddings(model=\"models/embedding-001\", google_api_key=os.getenv(\"GOOGLE_API_KEY\"))\n",
    "vector = embeddings.embed_query(\"hello, world!\")\n",
    "vector[:5]\n",
    "#vector"
   ]
  },
  {
   "cell_type": "code",
   "execution_count": 5,
   "metadata": {},
   "outputs": [],
   "source": [
    "vectorstore = Chroma.from_documents(documents=docs, embedding=GoogleGenerativeAIEmbeddings(model=\"models/embedding-001\"), persist_directory=\"chroma\")"
   ]
  },
  {
   "cell_type": "code",
   "execution_count": 6,
   "metadata": {},
   "outputs": [],
   "source": [
    "retriever = vectorstore.as_retriever(search_type=\"similarity_score_threshold\", search_kwargs={\"k\": 5, \"score_threshold\": 0.5})"
   ]
  },
  {
   "cell_type": "code",
   "execution_count": 7,
   "metadata": {},
   "outputs": [
    {
     "data": {
      "text/plain": [
       "[Document(metadata={'page': 0, 'source': 'docs/KB GovTech.pdf'}, page_content='ApaituBPJS?\\nBPJSadalahbadanhukumyangberoperasi sejak2014sertamemiliki wewenanguntukmemberikanjaminansosial berbentukkesehatandanketenagakerjaan. Keduaaspekinimerupakanhal pentingbagi masyarakat umumdanpekerjadalamrangkameningkatkankesejahteraannya.\\nBiasanya, benefit yangakandidapatkanmasyarakat adalahasuransi kesehatansertapesangonpensiunbagi parapegawai swasta. Nah, padaartikel kali ini, OCBCakanmembahasmengenai pengertian, caradaftarbpjsonline, dancarapengecekannya. Yuk, simak!\\nApaituBPJS?\\nBPJSadalahsingkatandari BadanPenyelenggaraJaminanSosial, yakni lembagakhususyangbertugasuntukmenyelenggarakanjaminankesehatandanketenagakerjaanbagi masyarakat,PNS, sertapegawai swasta. Programini mulai diselenggarakanpadatahun2014melalui dasarhukumUndang-UndangNomor24Tahun2011.\\nSalahsatuprogramyangdiadakanolehBPJSadalahJaminanKesehatanNasional (JKN). JKNdiselenggarakanmelalui sistemasuransi, dimanamasyarakat wajibmembayariurandalamjumlahringansebagai tabunganuntukbiayaperawatannyaketikasakit di masadepan.\\nPadadasarnya, semuaWNI wajibmengikuti programmilikBPJS. Termasukdi dalamnyaadalahorangasingdanpekerjayangberdomisili di Indonesiaminimal 6bulansertamembayariuran.\\nJenis-JenisBPJS\\nLembagaini mengadakanduajenisjaminankesehatan. Agarlebihmemahaminya, penjabaranataskeduaprogramBPJSadalahsebagai berikut.\\n1. BPJSKesehatanSeperti telahdisinggungdi atastentangsalahsatuprogramBPJSadalahasuransi dibidangkesehatan, ataubiasadisebut JaminanKesehatanNasional (JKN). Dasarhukumpenyelenggaraannyayakni Undang-UndangNomor40Tahun2004dankeanggotaanpesertaditandai denganKartuIndonesiaSehat (KIS), termasukbagi merekapenerimabantuaniurandari pemerintah(PBI).\\nJKNmemberikanpelayanankesehatansecarakomprehensif melalui rujukanberjenjangtergantungpadaindikasi medispasien. Adapunmanfaat yangdiberikanolehkeanggotaanBPJSadalahsebagai berikut.'),\n",
       " Document(metadata={'page': 0, 'source': 'docs/KB GovTech.pdf'}, page_content='ApaituBPJS?\\nBPJSadalahbadanhukumyangberoperasi sejak2014sertamemiliki wewenanguntukmemberikanjaminansosial berbentukkesehatandanketenagakerjaan. Keduaaspekinimerupakanhal pentingbagi masyarakat umumdanpekerjadalamrangkameningkatkankesejahteraannya.\\nBiasanya, benefit yangakandidapatkanmasyarakat adalahasuransi kesehatansertapesangonpensiunbagi parapegawai swasta. Nah, padaartikel kali ini, OCBCakanmembahasmengenai pengertian, caradaftarbpjsonline, dancarapengecekannya. Yuk, simak!\\nApaituBPJS?\\nBPJSadalahsingkatandari BadanPenyelenggaraJaminanSosial, yakni lembagakhususyangbertugasuntukmenyelenggarakanjaminankesehatandanketenagakerjaanbagi masyarakat,PNS, sertapegawai swasta. Programini mulai diselenggarakanpadatahun2014melalui dasarhukumUndang-UndangNomor24Tahun2011.\\nSalahsatuprogramyangdiadakanolehBPJSadalahJaminanKesehatanNasional (JKN). JKNdiselenggarakanmelalui sistemasuransi, dimanamasyarakat wajibmembayariurandalamjumlahringansebagai tabunganuntukbiayaperawatannyaketikasakit di masadepan.\\nPadadasarnya, semuaWNI wajibmengikuti programmilikBPJS. Termasukdi dalamnyaadalahorangasingdanpekerjayangberdomisili di Indonesiaminimal 6bulansertamembayariuran.\\nJenis-JenisBPJS\\nLembagaini mengadakanduajenisjaminankesehatan. Agarlebihmemahaminya, penjabaranataskeduaprogramBPJSadalahsebagai berikut.\\n1. BPJSKesehatanSeperti telahdisinggungdi atastentangsalahsatuprogramBPJSadalahasuransi dibidangkesehatan, ataubiasadisebut JaminanKesehatanNasional (JKN). Dasarhukumpenyelenggaraannyayakni Undang-UndangNomor40Tahun2004dankeanggotaanpesertaditandai denganKartuIndonesiaSehat (KIS), termasukbagi merekapenerimabantuaniurandari pemerintah(PBI).\\nJKNmemberikanpelayanankesehatansecarakomprehensif melalui rujukanberjenjangtergantungpadaindikasi medispasien. Adapunmanfaat yangdiberikanolehkeanggotaanBPJSadalahsebagai berikut.'),\n",
       " Document(metadata={'page': 0, 'source': 'docs/KB GovTech.pdf'}, page_content='ApaituBPJS?\\nBPJSadalahbadanhukumyangberoperasi sejak2014sertamemiliki wewenanguntukmemberikanjaminansosial berbentukkesehatandanketenagakerjaan. Keduaaspekinimerupakanhal pentingbagi masyarakat umumdanpekerjadalamrangkameningkatkankesejahteraannya.\\nBiasanya, benefit yangakandidapatkanmasyarakat adalahasuransi kesehatansertapesangonpensiunbagi parapegawai swasta. Nah, padaartikel kali ini, OCBCakanmembahasmengenai pengertian, caradaftarbpjsonline, dancarapengecekannya. Yuk, simak!\\nApaituBPJS?\\nBPJSadalahsingkatandari BadanPenyelenggaraJaminanSosial, yakni lembagakhususyangbertugasuntukmenyelenggarakanjaminankesehatandanketenagakerjaanbagi masyarakat,PNS, sertapegawai swasta. Programini mulai diselenggarakanpadatahun2014melalui dasarhukumUndang-UndangNomor24Tahun2011.\\nSalahsatuprogramyangdiadakanolehBPJSadalahJaminanKesehatanNasional (JKN). JKNdiselenggarakanmelalui sistemasuransi, dimanamasyarakat wajibmembayariurandalamjumlahringansebagai tabunganuntukbiayaperawatannyaketikasakit di masadepan.\\nPadadasarnya, semuaWNI wajibmengikuti programmilikBPJS. Termasukdi dalamnyaadalahorangasingdanpekerjayangberdomisili di Indonesiaminimal 6bulansertamembayariuran.\\nJenis-JenisBPJS\\nLembagaini mengadakanduajenisjaminankesehatan. Agarlebihmemahaminya, penjabaranataskeduaprogramBPJSadalahsebagai berikut.\\n1. BPJSKesehatanSeperti telahdisinggungdi atastentangsalahsatuprogramBPJSadalahasuransi dibidangkesehatan, ataubiasadisebut JaminanKesehatanNasional (JKN). Dasarhukumpenyelenggaraannyayakni Undang-UndangNomor40Tahun2004dankeanggotaanpesertaditandai denganKartuIndonesiaSehat (KIS), termasukbagi merekapenerimabantuaniurandari pemerintah(PBI).\\nJKNmemberikanpelayanankesehatansecarakomprehensif melalui rujukanberjenjangtergantungpadaindikasi medispasien. Adapunmanfaat yangdiberikanolehkeanggotaanBPJSadalahsebagai berikut.'),\n",
       " Document(metadata={'source': 'docs\\\\KB GovTech.pdf'}, page_content='Apa itu BPJS?\\n\\nBPJS adalah badan hukum yang beroperasi sejak 2014 serta memiliki wewenang untuk memberikan jaminan sosial berbentuk kesehatan dan ketenagakerjaan. Kedua aspek ini merupakan hal penting bagi masyarakat umum dan pekerja dalam rangka meningkatkan kesejahteraannya.\\n\\nBiasanya, benefit yang akan didapatkan masyarakat adalah asuransi kesehatan serta pesangon pensiun bagi para pegawai swasta. Nah, pada artikel kali ini, OCBC akan membahas mengenai pengertian, cara daftar bpjs online, dan cara pengecekannya. Yuk, simak!\\n\\nApa itu BPJS?\\n\\nBPJS adalah singkatan dari Badan Penyelenggara Jaminan Sosial, yakni lembaga khusus yang bertugas untuk menyelenggarakan jaminan kesehatan dan ketenagakerjaan bagi masyarakat, PNS, serta pegawai swasta. Program ini mulai diselenggarakan pada tahun 2014 melalui dasar hukum Undang-Undang Nomor 24 Tahun 2011.\\n\\nSalah satu program yang diadakan oleh BPJS adalah Jaminan Kesehatan Nasional (JKN). JKN diselenggarakan melalui sistem asuransi, dimana masyarakat wajib membayar iuran dalam jumlah ringan sebagai tabungan untuk biaya perawatannya ketika sakit di masa depan.\\n\\nPada dasarnya, semua WNI wajib mengikuti program milik BPJS. Termasuk di dalamnya adalah orang asing dan pekerja yang berdomisili di Indonesia minimal 6 bulan serta membayar iuran.\\n\\nJenis-Jenis BPJS\\n\\nLembaga ini mengadakan dua jenis jaminan kesehatan. Agar lebih memahaminya, penjabaran atas kedua program BPJS adalah sebagai berikut.\\n\\n1. BPJS Kesehatan\\n\\nSeperti telah disinggung di atas tentang salah satu program BPJS adalah asuransi di bidang kesehatan, atau biasa disebut Jaminan Kesehatan Nasional (JKN). Dasar hukum penyelenggaraannya yakni Undang-Undang Nomor 40 Tahun 2004 dan keanggotaan peserta ditandai dengan Kartu Indonesia Sehat (KIS), termasuk bagi mereka penerima bantuan iuran dari pemerintah (PBI).\\n\\nJKN memberikan pelayanan kesehatan secara komprehensif melalui rujukan berjenjang tergantung pada indikasi medis pasien. Adapun manfaat yang diberikan oleh keanggotaan BPJS adalah sebagai berikut.\\n\\nMendapatkan penyuluhan kesehatan mengenai perilaku hidup sehat maupun\\n\\npengelolaan lingkungan hidup.\\n\\nHak tiap anak peserta BPJS adalah mendapatkan imunisasi dasar yang meliputi\\n\\nBCG, DPT-HB, campak, dan polio.\\n\\nMemperoleh layanan KB seperti kontrasepsi, konseling kandungan, hingga\\n\\ntubektomi dan vasektomi.'),\n",
       " Document(metadata={'source': 'docs\\\\KB GovTech.pdf'}, page_content='Apa itu BPJS?\\n\\nBPJS adalah badan hukum yang beroperasi sejak 2014 serta memiliki wewenang untuk memberikan jaminan sosial berbentuk kesehatan dan ketenagakerjaan. Kedua aspek ini merupakan hal penting bagi masyarakat umum dan pekerja dalam rangka meningkatkan kesejahteraannya.\\n\\nBiasanya, benefit yang akan didapatkan masyarakat adalah asuransi kesehatan serta pesangon pensiun bagi para pegawai swasta. Nah, pada artikel kali ini, OCBC akan membahas mengenai pengertian, cara daftar bpjs online, dan cara pengecekannya. Yuk, simak!\\n\\nApa itu BPJS?\\n\\nBPJS adalah singkatan dari Badan Penyelenggara Jaminan Sosial, yakni lembaga khusus yang bertugas untuk menyelenggarakan jaminan kesehatan dan ketenagakerjaan bagi masyarakat, PNS, serta pegawai swasta. Program ini mulai diselenggarakan pada tahun 2014 melalui dasar hukum Undang-Undang Nomor 24 Tahun 2011.\\n\\nSalah satu program yang diadakan oleh BPJS adalah Jaminan Kesehatan Nasional (JKN). JKN diselenggarakan melalui sistem asuransi, dimana masyarakat wajib membayar iuran dalam jumlah ringan sebagai tabungan untuk biaya perawatannya ketika sakit di masa depan.\\n\\nPada dasarnya, semua WNI wajib mengikuti program milik BPJS. Termasuk di dalamnya adalah orang asing dan pekerja yang berdomisili di Indonesia minimal 6 bulan serta membayar iuran.\\n\\nJenis-Jenis BPJS\\n\\nLembaga ini mengadakan dua jenis jaminan kesehatan. Agar lebih memahaminya, penjabaran atas kedua program BPJS adalah sebagai berikut.\\n\\n1. BPJS Kesehatan\\n\\nSeperti telah disinggung di atas tentang salah satu program BPJS adalah asuransi di bidang kesehatan, atau biasa disebut Jaminan Kesehatan Nasional (JKN). Dasar hukum penyelenggaraannya yakni Undang-Undang Nomor 40 Tahun 2004 dan keanggotaan peserta ditandai dengan Kartu Indonesia Sehat (KIS), termasuk bagi mereka penerima bantuan iuran dari pemerintah (PBI).\\n\\nJKN memberikan pelayanan kesehatan secara komprehensif melalui rujukan berjenjang tergantung pada indikasi medis pasien. Adapun manfaat yang diberikan oleh keanggotaan BPJS adalah sebagai berikut.\\n\\nMendapatkan penyuluhan kesehatan mengenai perilaku hidup sehat maupun\\n\\npengelolaan lingkungan hidup.\\n\\nHak tiap anak peserta BPJS adalah mendapatkan imunisasi dasar yang meliputi\\n\\nBCG, DPT-HB, campak, dan polio.\\n\\nMemperoleh layanan KB seperti kontrasepsi, konseling kandungan, hingga\\n\\ntubektomi dan vasektomi.'),\n",
       " Document(metadata={'source': 'docs\\\\KB GovTech.pdf'}, page_content='Apa itu BPJS?\\n\\nBPJS adalah badan hukum yang beroperasi sejak 2014 serta memiliki wewenang untuk memberikan jaminan sosial berbentuk kesehatan dan ketenagakerjaan. Kedua aspek ini merupakan hal penting bagi masyarakat umum dan pekerja dalam rangka meningkatkan kesejahteraannya.\\n\\nBiasanya, benefit yang akan didapatkan masyarakat adalah asuransi kesehatan serta pesangon pensiun bagi para pegawai swasta. Nah, pada artikel kali ini, OCBC akan membahas mengenai pengertian, cara daftar bpjs online, dan cara pengecekannya. Yuk, simak!\\n\\nApa itu BPJS?\\n\\nBPJS adalah singkatan dari Badan Penyelenggara Jaminan Sosial, yakni lembaga khusus yang bertugas untuk menyelenggarakan jaminan kesehatan dan ketenagakerjaan bagi masyarakat, PNS, serta pegawai swasta. Program ini mulai diselenggarakan pada tahun 2014 melalui dasar hukum Undang-Undang Nomor 24 Tahun 2011.\\n\\nSalah satu program yang diadakan oleh BPJS adalah Jaminan Kesehatan Nasional (JKN). JKN diselenggarakan melalui sistem asuransi, dimana masyarakat wajib membayar iuran dalam jumlah ringan sebagai tabungan untuk biaya perawatannya ketika sakit di masa depan.\\n\\nPada dasarnya, semua WNI wajib mengikuti program milik BPJS. Termasuk di dalamnya adalah orang asing dan pekerja yang berdomisili di Indonesia minimal 6 bulan serta membayar iuran.\\n\\nJenis-Jenis BPJS\\n\\nLembaga ini mengadakan dua jenis jaminan kesehatan. Agar lebih memahaminya, penjabaran atas kedua program BPJS adalah sebagai berikut.\\n\\n1. BPJS Kesehatan\\n\\nSeperti telah disinggung di atas tentang salah satu program BPJS adalah asuransi di bidang kesehatan, atau biasa disebut Jaminan Kesehatan Nasional (JKN). Dasar hukum penyelenggaraannya yakni Undang-Undang Nomor 40 Tahun 2004 dan keanggotaan peserta ditandai dengan Kartu Indonesia Sehat (KIS), termasuk bagi mereka penerima bantuan iuran dari pemerintah (PBI).\\n\\nJKN memberikan pelayanan kesehatan secara komprehensif melalui rujukan berjenjang tergantung pada indikasi medis pasien. Adapun manfaat yang diberikan oleh keanggotaan BPJS adalah sebagai berikut.\\n\\nMendapatkan penyuluhan kesehatan mengenai perilaku hidup sehat maupun\\n\\npengelolaan lingkungan hidup.\\n\\nHak tiap anak peserta BPJS adalah mendapatkan imunisasi dasar yang meliputi\\n\\nBCG, DPT-HB, campak, dan polio.\\n\\nMemperoleh layanan KB seperti kontrasepsi, konseling kandungan, hingga\\n\\ntubektomi dan vasektomi.'),\n",
       " Document(metadata={'source': 'docs\\\\KB GovTech.pdf'}, page_content='Apa itu BPJS?\\n\\nBPJS adalah badan hukum yang beroperasi sejak 2014 serta memiliki wewenang untuk memberikan jaminan sosial berbentuk kesehatan dan ketenagakerjaan. Kedua aspek ini merupakan hal penting bagi masyarakat umum dan pekerja dalam rangka meningkatkan kesejahteraannya.\\n\\nBiasanya, benefit yang akan didapatkan masyarakat adalah asuransi kesehatan serta pesangon pensiun bagi para pegawai swasta. Nah, pada artikel kali ini, OCBC akan membahas mengenai pengertian, cara daftar bpjs online, dan cara pengecekannya. Yuk, simak!\\n\\nApa itu BPJS?\\n\\nBPJS adalah singkatan dari Badan Penyelenggara Jaminan Sosial, yakni lembaga khusus yang bertugas untuk menyelenggarakan jaminan kesehatan dan ketenagakerjaan bagi masyarakat, PNS, serta pegawai swasta. Program ini mulai diselenggarakan pada tahun 2014 melalui dasar hukum Undang-Undang Nomor 24 Tahun 2011.\\n\\nSalah satu program yang diadakan oleh BPJS adalah Jaminan Kesehatan Nasional (JKN). JKN diselenggarakan melalui sistem asuransi, dimana masyarakat wajib membayar iuran dalam jumlah ringan sebagai tabungan untuk biaya perawatannya ketika sakit di masa depan.\\n\\nPada dasarnya, semua WNI wajib mengikuti program milik BPJS. Termasuk di dalamnya adalah orang asing dan pekerja yang berdomisili di Indonesia minimal 6 bulan serta membayar iuran.\\n\\nJenis-Jenis BPJS\\n\\nLembaga ini mengadakan dua jenis jaminan kesehatan. Agar lebih memahaminya, penjabaran atas kedua program BPJS adalah sebagai berikut.\\n\\n1. BPJS Kesehatan\\n\\nSeperti telah disinggung di atas tentang salah satu program BPJS adalah asuransi di bidang kesehatan, atau biasa disebut Jaminan Kesehatan Nasional (JKN). Dasar hukum penyelenggaraannya yakni Undang-Undang Nomor 40 Tahun 2004 dan keanggotaan peserta ditandai dengan Kartu Indonesia Sehat (KIS), termasuk bagi mereka penerima bantuan iuran dari pemerintah (PBI).\\n\\nJKN memberikan pelayanan kesehatan secara komprehensif melalui rujukan berjenjang tergantung pada indikasi medis pasien. Adapun manfaat yang diberikan oleh keanggotaan BPJS adalah sebagai berikut.\\n\\nMendapatkan penyuluhan kesehatan mengenai perilaku hidup sehat maupun\\n\\npengelolaan lingkungan hidup.\\n\\nHak tiap anak peserta BPJS adalah mendapatkan imunisasi dasar yang meliputi\\n\\nBCG, DPT-HB, campak, dan polio.\\n\\nMemperoleh layanan KB seperti kontrasepsi, konseling kandungan, hingga\\n\\ntubektomi dan vasektomi.')]"
      ]
     },
     "execution_count": 7,
     "metadata": {},
     "output_type": "execute_result"
    }
   ],
   "source": [
    "retrieved_docs = retriever.invoke(\"Apa itu bpjs?\")\n",
    "retrieved_docs"
   ]
  },
  {
   "cell_type": "code",
   "execution_count": 8,
   "metadata": {},
   "outputs": [],
   "source": [
    "llm = ChatGoogleGenerativeAI(model=\"gemini-1.5-pro\",temperature=0.3, max_tokens=500, api_key=os.getenv(\"GOOGLE_API_KEY\"))"
   ]
  },
  {
   "cell_type": "code",
   "execution_count": 139,
   "metadata": {},
   "outputs": [],
   "source": [
    "contextualize_q_system_prompt = (\n",
    "    \"Given a chat history and the latest user question \"\n",
    "    \"which might reference context in the chat history, \"\n",
    "    \"formulate a standalone question which can be understood \"\n",
    "    \"without the chat history. Do NOT answer the question, \"\n",
    "    \"just reformulate it if needed and otherwise return it as is.\"\n",
    ")\n",
    "contextualize_q_prompt = ChatPromptTemplate.from_messages(\n",
    "    [\n",
    "        (\"system\", contextualize_q_system_prompt),\n",
    "        MessagesPlaceholder(\"chat_history\"),\n",
    "        (\"human\", \"{input}\"),\n",
    "    ]\n",
    ")\n",
    "history_aware_retriever = create_history_aware_retriever(\n",
    "    llm, retriever, contextualize_q_prompt\n",
    ")"
   ]
  },
  {
   "cell_type": "code",
   "execution_count": 9,
   "metadata": {},
   "outputs": [],
   "source": [
    "contextualize_q_system_prompt = (\n",
    "    \"Given a chat history and the latest user question \"\n",
    "    \"which might reference context in the chat history, \"\n",
    "    \"formulate a standalone question which can be understood \"\n",
    "    \"without the chat history. Do NOT answer the question, \"\n",
    "    \"just reformulate it if needed and otherwise return it as is.\"\n",
    ")\n",
    "contextualize_q_prompt = ChatPromptTemplate.from_messages(\n",
    "    [\n",
    "        (\"system\", contextualize_q_system_prompt),\n",
    "        MessagesPlaceholder(\"chat_history\"),\n",
    "        (\"human\", \"{input}\"),\n",
    "    ]\n",
    ")\n",
    "history_aware_retriever = create_history_aware_retriever(\n",
    "    llm, retriever, contextualize_q_prompt\n",
    ")"
   ]
  },
  {
   "cell_type": "code",
   "execution_count": 9,
   "metadata": {},
   "outputs": [],
   "source": [
    "\n",
    "system_prompt = (\n",
    "    \"Anda adalah asisten untuk tugas menjawab pertanyaan. \"\n",
    "    \"Gunakan potongan konteks yang diambil berikut ini untuk menjawab \"\n",
    "    \"pertanyaan. Jika Anda tidak tahu jawabannya, katakan bahwa Anda \"\n",
    "    \"tidak tahu. Gunakan maksimal tiga kalimat dan buat jawaban singkat.\"\n",
    "    \"\\n\\n\"\n",
    "    \"{context}\"\n",
    ")\n",
    "\n",
    "prompt = ChatPromptTemplate.from_messages(\n",
    "    [\n",
    "        (\"system\", system_prompt),\n",
    "        MessagesPlaceholder(\"chat_history\"),\n",
    "        (\"human\", \"{input}\"),\n",
    "    ]\n",
    ")"
   ]
  },
  {
   "cell_type": "code",
   "execution_count": 10,
   "metadata": {},
   "outputs": [],
   "source": [
    "question_answer_chain = create_stuff_documents_chain(llm, prompt)\n",
    "rag_chain = create_retrieval_chain(history_aware_retriever, question_answer_chain)"
   ]
  },
  {
   "cell_type": "code",
   "execution_count": 143,
   "metadata": {},
   "outputs": [],
   "source": [
    "### Statefully manage chat history ###\n",
    "store = {}\n",
    "\n",
    "\n",
    "def get_session_history(session_id: str) -> BaseChatMessageHistory:\n",
    "    if session_id not in store:\n",
    "        store[session_id] = ChatMessageHistory()\n",
    "    return store[session_id]\n",
    "\n",
    "\n",
    "conversational_rag_chain = RunnableWithMessageHistory(\n",
    "    rag_chain,\n",
    "    get_session_history,\n",
    "    input_messages_key=\"input\",\n",
    "    history_messages_key=\"chat_history\",\n",
    "    output_messages_key=\"answer\",\n",
    ")"
   ]
  },
  {
   "cell_type": "code",
   "execution_count": 11,
   "metadata": {},
   "outputs": [
    {
     "data": {
      "text/plain": [
       "'BPJS adalah singkatan dari Badan Penyelenggara Jaminan Sosial.  BPJS adalah lembaga yang bertugas menyelenggarakan jaminan kesehatan dan ketenagakerjaan bagi masyarakat Indonesia, PNS, dan pegawai swasta. Program ini dimulai pada tahun 2014 berdasarkan Undang-Undang Nomor 24 Tahun 2011.\\n'"
      ]
     },
     "execution_count": 144,
     "metadata": {},
     "output_type": "execute_result"
    }
   ],
   "source": [
    "conversational_rag_chain.invoke(\n",
    "    {\"input\": \"Apa itu BPJS?\"},\n",
    "    config={\n",
    "        \"configurable\": {\"session_id\": \"abc123\"}\n",
    "    },  # constructs a key \"abc123\" in `store`.\n",
    ")[\"answer\"]"
   ]
  },
  {
   "cell_type": "code",
   "execution_count": 145,
   "metadata": {},
   "outputs": [
    {
     "data": {
      "text/plain": [
       "'Anda dapat mendaftar BPJS melalui aplikasi JKN Mobile. Unduh dan instal aplikasi, lalu klik \"Daftar\", pilih \"Pendaftaran Peserta Baru\", dan ikuti langkah-langkah selanjutnya, termasuk memasukkan NIK, data diri, memilih faskes, dan membayar premi.\\n'"
      ]
     },
     "execution_count": 145,
     "metadata": {},
     "output_type": "execute_result"
    }
   ],
   "source": [
    "conversational_rag_chain.invoke(\n",
    "    {\"input\": \"Bagaimana cara mendaftar?\"},\n",
    "    config={\n",
    "        \"configurable\": {\"session_id\": \"abc123\"}\n",
    "    },  # constructs a key \"abc123\" in `store`.\n",
    ")[\"answer\"]"
   ]
  }
 ],
 "metadata": {
  "kernelspec": {
   "display_name": "venv",
   "language": "python",
   "name": "python3"
  },
  "language_info": {
   "codemirror_mode": {
    "name": "ipython",
    "version": 3
   },
   "file_extension": ".py",
   "mimetype": "text/x-python",
   "name": "python",
   "nbconvert_exporter": "python",
   "pygments_lexer": "ipython3",
   "version": "3.11.11"
  }
 },
 "nbformat": 4,
 "nbformat_minor": 2
}
